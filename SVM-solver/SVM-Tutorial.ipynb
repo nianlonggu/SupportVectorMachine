{
 "cells": [
  {
   "cell_type": "markdown",
   "metadata": {},
   "source": [
    "First of all, we need to implement the SVM solver based on the SMO algorithm."
   ]
  },
  {
   "cell_type": "code",
   "execution_count": 1,
   "metadata": {},
   "outputs": [
    {
     "name": "stderr",
     "output_type": "stream",
     "text": [
      "Using TensorFlow backend.\n"
     ]
    }
   ],
   "source": [
    "import numpy as np\n",
    "import matplotlib.pyplot as plt\n",
    "import os\n",
    "from keras.datasets import mnist"
   ]
  },
  {
   "cell_type": "markdown",
   "metadata": {},
   "source": [
    "We define some auxilary functions. The following two functions are related with the kernel function and kernel matrix"
   ]
  },
  {
   "cell_type": "code",
   "execution_count": 2,
   "metadata": {},
   "outputs": [],
   "source": [
    "\"\"\" kernel part for SVM \"\"\"\n",
    "def kernel_func(x1,x2, kernel_type=None):\n",
    "\tif kernel_type is None:\n",
    "\t\treturn np.dot( x1,x2)\n",
    "\telif kernel_type[\"name\"]==\"GAUSSIAN\":\n",
    "\t\tsigma = kernel_type[\"params\"][0]\n",
    "\t\treturn np.exp(- np.dot( x1-x2, x1-x2 )/(2*sigma**2)  )\n",
    "\n",
    "def get_kernel_matrix( x1, x2, kernel_type=None ):\n",
    "\tnum_samples_x1 = x1.shape[0]\n",
    "\tnum_samples_x2 = x2.shape[0]\n",
    "\tkernel_matrix = np.zeros([num_samples_x1, num_samples_x2])\n",
    "\tfor nrow in range(num_samples_x1 ):\n",
    "\t\tfor ncol in range(num_samples_x2  ):\n",
    "\t\t\tkernel_matrix[nrow][ncol] = kernel_func(x1[nrow] , x2[ncol], kernel_type = kernel_type)\n",
    "\treturn kernel_matrix"
   ]
  },
  {
   "cell_type": "markdown",
   "metadata": {},
   "source": [
    "Then we need to implement the SVM solver part, which is encapsulated into a class"
   ]
  },
  {
   "cell_type": "code",
   "execution_count": 3,
   "metadata": {},
   "outputs": [],
   "source": [
    "\"\"\"\n",
    "Description: A SVM solver\n",
    "Input:  training dataset (x,y), together with other hype-parameters\n",
    "Return: a trained SVM model (solver) which is able to perform classification for a give x\n",
    "\"\"\"\n",
    "import numpy as np\n",
    "\n",
    "\"\"\" kernel part for SVM \"\"\"\n",
    "def kernel_func(x1,x2, kernel_type=None):\n",
    "\tif kernel_type is None:\n",
    "\t\treturn np.dot( x1,x2)\n",
    "\telif kernel_type[\"name\"]==\"GAUSSIAN\":\n",
    "\t\tsigma = kernel_type[\"params\"][0]\n",
    "\t\treturn np.exp(- np.dot( x1-x2, x1-x2 )/(2*sigma**2)  )\n",
    "\n",
    "def get_kernel_matrix( x1, x2, kernel_type=None ):\n",
    "\tnum_samples_x1 = x1.shape[0]\n",
    "\tnum_samples_x2 = x2.shape[0]\n",
    "\tkernel_matrix = np.zeros([num_samples_x1, num_samples_x2])\n",
    "\tfor nrow in range(num_samples_x1 ):\n",
    "\t\tfor ncol in range(num_samples_x2  ):\n",
    "\t\t\tkernel_matrix[nrow][ncol] = kernel_func(x1[nrow] , x2[ncol], kernel_type = kernel_type)\n",
    "\treturn kernel_matrix\n",
    "\n",
    "class SVM_Solver:\n",
    "\tdef __init__(self, kernel_type=None , C=10):\n",
    "\n",
    "\t\tself.support_ind = None\n",
    "\t\tself.support_x = None\n",
    "\t\tself.support_y = None\n",
    "\t\tself.support_lamb = None\n",
    "\t\tself.kernel_type= kernel_type\n",
    "\t\tself.C = C\n",
    "\t\tself.count = 0\n",
    "\t\tself.objective_func = -np.Inf\n",
    "\t\tself.lamb = None\n",
    "\t\tself.param_b = None\n",
    "\n",
    "\t## This is a SVM trained predictor\n",
    "\tdef predict(self,x, decision_mode = \"hard\"):\n",
    "\t\tdef decision_func(z):\n",
    "\t\t\tif decision_mode == \"soft\":\n",
    "\t\t\t\tif z<-1:\n",
    "\t\t\t\t\treturn -1\n",
    "\t\t\t\telif z>1:\n",
    "\t\t\t\t\treturn 1\n",
    "\t\t\t\telse:\n",
    "\t\t\t\t\treturn z\n",
    "\t\t\telif decision_mode == \"hard\":\n",
    "\t\t\t\tif z<0:\n",
    "\t\t\t\t\treturn -1\n",
    "\t\t\t\telse:\n",
    "\t\t\t\t\treturn 1\n",
    "\t\tK = get_kernel_matrix(self.support_x, x, kernel_type = self.kernel_type )\n",
    "\t\tpred_y = []\n",
    "\t\tfor ind in range(x.shape[0]):\n",
    "\t\t\tz= np.dot( self.support_lamb* self.support_y, K[:,ind] ) +  self.param_b  \n",
    "\t\t\tpred_y.append(decision_func(z))\t\n",
    "\t\treturn np.array(pred_y)\n",
    "\t\t\n",
    "\t\t\"\"\"Training the SVM model, which uses x, y and validation set x_val, y_val\n",
    "        max_iter is the maximum iteration to train;\n",
    "        epsilon is use to determine when the training is terminated -- the change of objective\n",
    "        function is less than epsilon\n",
    "        \"\"\"\n",
    "\tdef train( self, x, y, x_val, y_val, max_iter= 1E6, epsilon= 1E-4 ):\n",
    "\t\n",
    "\t\tnum_samples = x.shape[0]\n",
    "\t\t\"\"\"Solve the dual problem using SMO\"\"\"\n",
    "\t\t## Initialization\n",
    "\t\tK=get_kernel_matrix(x,x, kernel_type = self.kernel_type )\t\n",
    "\t\tC = self.C\n",
    "\t\tif self.lamb is None:\n",
    "\t\t\tself.lamb = np.zeros(num_samples)\n",
    "\t\tif self.param_b is None:\n",
    "\t\t\tself.param_b = np.random.normal()\n",
    "\t\t## Start looping:\n",
    "\t\t## looping parameters:\n",
    "\n",
    "\t\tlocal_count =0\n",
    "\t\t##Here is the part of the SMO algorithm\n",
    "\t\twhile True:\n",
    "\t\t\t## randomly select a pair (a,b) to optimize\n",
    "\t\t\t[a,b] = np.random.choice( num_samples, 2, replace= False )\n",
    "\t\t\tif K[a,a] + K[b,b] - 2*K[a,b] ==0:\n",
    "\t\t\t\tcontinue\t\n",
    "\n",
    "\t\t\tlamb_a_old = self.lamb[a]\n",
    "\t\t\tlamb_b_old = self.lamb[b]\t\n",
    "\n",
    "\t\t\tEa =  np.dot(self.lamb * y, K[:,a]) + self.param_b - y[a]\n",
    "\t\t\tEb =  np.dot(self.lamb * y, K[:,b]) + self.param_b - y[b]\t\n",
    "\n",
    "\t\t\tlamb_a_new_unclip = lamb_a_old  + y[a] *(Eb-Ea)/( K[a,a] + K[b,b] - 2*K[a,b] )\n",
    "\t\t\txi = - lamb_a_old  * y[a] - lamb_b_old * y[b]\t\n",
    "\n",
    "\t\t\tif y[a] != y[b]:\n",
    "\t\t\t\tL = max( xi * y[b], 0 )\n",
    "\t\t\t\tH = min( C+xi*y[b], C )\n",
    "\t\t\telse:\n",
    "\t\t\t\tL = max( 0, -C-xi*y[b])\n",
    "\t\t\t\tH = min( C, -xi*y[b] )\t\n",
    "\n",
    "\t\t\tif lamb_a_new_unclip < L:\n",
    "\t\t\t\tlamb_a_new = L\n",
    "\t\t\telif lamb_a_new_unclip > H:\n",
    "\t\t\t\tlamb_a_new = H\n",
    "\t\t\telse:\n",
    "\t\t\t\tlamb_a_new = lamb_a_new_unclip\t\n",
    "\n",
    "\t\t\tlamb_b_new = lamb_b_old + ( lamb_a_old - lamb_a_new )*y[a] * y[b]\n",
    "\t\t\tif lamb_a_new >0 and lamb_a_new <C:\n",
    "\t\t\t\tself.param_b =  self.param_b - Ea + ( lamb_a_old- lamb_a_new)*y[a]*K[a,a] + (lamb_b_old - lamb_b_new)*y[b] * K[b,a]\n",
    "\t\t\telif lamb_b_new >0 and lamb_b_new <C:\n",
    "\t\t\t\tself.param_b = self.param_b - Eb + ( lamb_a_old- lamb_a_new)*y[a]*K[a,b] + (lamb_b_old - lamb_b_new)*y[b] * K[b,b]\t\n",
    "\n",
    "\t\t\tself.lamb[a] = lamb_a_new\n",
    "\t\t\tself.lamb[b] = lamb_b_new\t\n",
    "\n",
    "\t\t\tself.count +=1\n",
    "\t\t\tlocal_count +=1\n",
    "\n",
    "\t\t\t\"\"\"Every 10000 iterations record the current progree of the training,\n",
    "            and determine whether to stop the training.\n",
    "            \"\"\"\n",
    "\t\t\tif local_count >= max_iter or self.count % 10000 ==0:\n",
    "\t\t\t\t## get the support set\n",
    "\t\t\t\tself.support_ind =  self.lamb > 0\n",
    "\t\t\t\tself.support_x = x[self.support_ind]\n",
    "\t\t\t\tself.support_y = y[self.support_ind]\n",
    "\t\t\t\tself.support_lamb = self.lamb[self.support_ind]\t\n",
    "\t\n",
    "\t\t\t\t## Evaluate the performance (accuracy) on training set and validation set\n",
    "\t\t\t\tpred_y=self.predict(x)\n",
    "\t\t\t\ttrain_acc =  np.sum( pred_y == y)/ y.shape[0]\n",
    "\t\t\t\tpred_y=self.predict(x_val)\n",
    "\t\t\t\tval_acc =  np.sum( pred_y == y_val  )/ y_val.shape[0]\n",
    "\n",
    "\t\t\t\tsupport_K = K[ self.support_ind,: ][:, self.support_ind]\n",
    "\t\t\t\tnew_objective_func = np.sum( self.support_lamb ) - 0.5 * np.dot( np.matmul( ( self.support_lamb *self.support_y ).T, support_K ).T , self.support_lamb* self.support_y  ) \n",
    "\n",
    "\t\t\t\t## support ratio represents the percentage of the points which are support vectors\n",
    "\t\t\t\tsupport_ratio = np.sum( self.support_ind )/ self.support_ind.shape[0] \n",
    "\n",
    "\t\t\t\tprint(\"Iteration: %d, \\tTrain accuracy: %.2f%%, \\tVal accuracy: %.2f%%, \\tDelta Objective Function: %f, \\tSupport Ratio: %.2f%%\"%(self.count, train_acc*100, val_acc*100, new_objective_func - self.objective_func, support_ratio *100 ))\n",
    "\t\t\t\t\n",
    "\t\t\t\t## If the change of dual objective function is less than epsilon, then stop training\n",
    "\t\t\t\tif abs( new_objective_func - self.objective_func ) <= epsilon:\n",
    "\t\t\t\t\tbreak\n",
    "\t\t\t\telse:\n",
    "\t\t\t\t\tself.objective_func = new_objective_func\n",
    "\t\t\t\t\n",
    "\t\t\t\tif local_count >= max_iter:\n",
    "\t\t\t\t\tbreak"
   ]
  },
  {
   "cell_type": "markdown",
   "metadata": {},
   "source": [
    "Define some auxilary functions for compute the distance matrix, which is used to estimate the sigma for Gaussian Kernel, generator folder and plot the results."
   ]
  },
  {
   "cell_type": "code",
   "execution_count": 4,
   "metadata": {},
   "outputs": [],
   "source": [
    "def distance_matrix( x,y, metric = \"Euclidean\" ):\n",
    "\tdef distance( a,b ):\n",
    "\t\tif metric == \"Euclidean\":\n",
    "\t\t\treturn np.linalg.norm(a-b)\n",
    "\tn_row = x.shape[0]\n",
    "\tn_col = y.shape[0]\n",
    "\tdis_matrix = np.zeros([n_row, n_col] )\n",
    "\tfor r in range( n_row ):\n",
    "\t\tfor c in range(n_col ):\n",
    "\t\t\tdis_matrix[r][c] = distance( x[r], y[c])\n",
    "\treturn dis_matrix\n",
    "\n",
    "def generate_folder(path):\n",
    "\tif not os.path.exists(path):\n",
    "\t\tos.makedirs(path)\n",
    "\treturn path\n",
    "\n",
    "# This plot results is used to plot the results on training dataset, e.g, what the separating hyperplane looks\n",
    "# like, how the support vectors are distributed, and whether the points are correctly classified\n",
    "def plot_results( x,y, support_ind, pred_y, title = \"\", img_save_path = None , show_img = True ):\n",
    "\n",
    "\tfig, ax = plt.subplots()\n",
    "\n",
    "\n",
    "\tx_low_dim = x[:,:2]\n",
    "\n",
    "\tx_support =  x[support_ind]\n",
    "\ty_support = y[support_ind]\n",
    "\tpred_y_support = pred_y[support_ind]\n",
    "\tx_support_low_dim = x_low_dim[support_ind]\n",
    "\n",
    "\tfor ind in range(x.shape[0]):\n",
    "\t\tif y[ind] == 1:\n",
    "\t\t\tmshape = \"^\"\n",
    "\t\telse:\n",
    "\t\t\tmshape = \"o\"\n",
    "\t\tif pred_y[ind] == 1:\n",
    "\t\t\tcolor = \"r\"\n",
    "\t\telse:\n",
    "\t\t\tcolor = \"b\"\n",
    "\n",
    "\t\tplt.plot(x_low_dim[ind,0], x_low_dim[ind,1], mshape, c= color, markerfacecolor='none', markeredgewidth=0.4, markersize =4)\n",
    "\n",
    "\tfor ind in range(x_support.shape[0]):\n",
    "\t\tif y_support[ind] == 1:\n",
    "\t\t\tmshape = \"^\"\n",
    "\t\telse:\n",
    "\t\t\tmshape = \"o\"\n",
    "\t\tif pred_y_support[ind] == 1:\n",
    "\t\t\tcolor = \"r\"\n",
    "\t\telse:\n",
    "\t\t\tcolor = \"b\"\n",
    "\n",
    "\t\tplt.plot(x_support_low_dim[ind,0], x_support_low_dim[ind,1], mshape, c= color, markersize =4)\n",
    "\n",
    "\tfor ind in range(x.shape[0]):\n",
    "\t\tif y[ind]!= pred_y[ind]:\n",
    "\t\t\tplt.plot(x_low_dim[ind,0], x_low_dim[ind,1], \"o\", c= \"g\", markersize =9, markerfacecolor='none')\n",
    "\n",
    "\tplt.xlabel(\"x\")\n",
    "\tplt.ylabel(\"y\")\n",
    "\tplt.xlim([min(x_low_dim[:,0])-0.5, max(x_low_dim[:,0])+0.5 ])\n",
    "\tplt.ylim([min(x_low_dim[:,1])-0.5, max(x_low_dim[:,1])+0.5 ])\n",
    "\n",
    "\tplt.title(title)\n",
    "\tif img_save_path is not None:\n",
    "\t\tplt.savefig( img_save_path )\n",
    "\tif show_img:\n",
    "\t\tplt.show()\n",
    "\n",
    "\tplt.close()"
   ]
  },
  {
   "cell_type": "markdown",
   "metadata": {},
   "source": [
    "## Test the kernel SVM on linearly non-separable data"
   ]
  },
  {
   "cell_type": "markdown",
   "metadata": {},
   "source": [
    "First we load the data"
   ]
  },
  {
   "cell_type": "code",
   "execution_count": 5,
   "metadata": {},
   "outputs": [],
   "source": [
    "def load_data(num_samples = 1000):\n",
    "\tx1 = []\n",
    "\tx2 = []\n",
    "\tfor _ in range(num_samples):\n",
    "\t\twhile True:\n",
    "\t\t\tr_x = np.random.multivariate_normal( [0,1], [[20,0],[0,1]], 1 )\n",
    "\t\t\tif r_x[0,1]>np.sin( r_x[0,0] )+0.5:\n",
    "\t\t\t\tx1.append( r_x )\n",
    "\t\t\t\tbreak\n",
    "\t\twhile True:\n",
    "\t\t\tr_x = np.random.multivariate_normal( [0,-1], [[20,0],[0,1]], 1 )\n",
    "\t\t\tif r_x[0,1]<np.sin( r_x[0,0] ):\n",
    "\t\t\t\tx2.append( r_x )\n",
    "\t\t\t\tbreak\n",
    "\n",
    "\tx1 = np.concatenate( x1, axis =0 )\n",
    "\tx2 = np.concatenate( x2, axis =0)\n",
    "\ty1 = np.ones([num_samples]) *-1\n",
    "\ty2 = np.ones([num_samples]) *1\n",
    "\tx = np.concatenate([x1,x2], axis =0)\n",
    "\ty = np.concatenate([y1,y2], axis =0)\n",
    "\n",
    "\treturn x, y"
   ]
  },
  {
   "cell_type": "markdown",
   "metadata": {},
   "source": [
    "What does this loaded data look like? Let's load and plot it."
   ]
  },
  {
   "cell_type": "code",
   "execution_count": 6,
   "metadata": {},
   "outputs": [
    {
     "data": {
      "image/png": "[encoded data removed]",
      "text/plain": [
       "<Figure size 432x288 with 1 Axes>"
      ]
     },
     "metadata": {},
     "output_type": "display_data"
    }
   ],
   "source": [
    "x,y = load_data(500)\n",
    "x_val, y_val = load_data(100)\n",
    "## x,y are used for training, and x_val, y_val are used for validation\n",
    "x_pos = x[y==1]\n",
    "x_neg = x[y==-1]\n",
    "plt.plot( x_pos[:,0], x_pos[:,1], \"^\", markerfacecolor='none' )\n",
    "plt.plot( x_neg[:,0], x_neg[:,1], \"o\", markerfacecolor='none' )\n",
    "plt.show()"
   ]
  },
  {
   "cell_type": "markdown",
   "metadata": {},
   "source": [
    "From the figure, we can see that these points of two classes are obviously linearly non-separable, therefore we need to use the kernel SVM, and use Gaussian Kernel. Note that in the Gaussian Kernel there is a parameter: sigma, which represents the standard deviation. \n",
    "\n",
    "The SVM results are very sensitive to the selection of sigma. \n",
    "1. If sigma is too small, the model is going to overfit. Then the training/validation accuracy would be high, but the percentage of support vectors will be extremely high -- almost every point is a support vector! \n",
    "2. If sigma is too large, the model is going to underfit. The percentage of suport vector \"might\" be lower. However, the training/validation accuracy is low, which means the separating hyperplane is not accurately learned.\n",
    "\n",
    "In this experiment, I used an empirical way to estimate the sigma: \n",
    "> Given the training dataset $X$, we use the function distance_matrix($X$,$X$) to compute the distance matrix w.r.t the element in $X$. Then we can use the average value of the distances between point pairs. Moreover, we can use a factor, such as 0.5, to adjust the value of $\\sigma$."
   ]
  },
  {
   "cell_type": "code",
   "execution_count": 7,
   "metadata": {},
   "outputs": [
    {
     "name": "stdout",
     "output_type": "stream",
     "text": [
      "2.800322186496282\n"
     ]
    }
   ],
   "source": [
    "estimated_sigma = np.mean( distance_matrix( x,x ) ) * 0.5\n",
    "print(estimated_sigma)\n",
    "svm= SVM_Solver( kernel_type = {\"name\":\"GAUSSIAN\", \"params\":[estimated_sigma] } )"
   ]
  },
  {
   "cell_type": "markdown",
   "metadata": {},
   "source": [
    "Then, we can train our SVM model!"
   ]
  },
  {
   "cell_type": "code",
   "execution_count": 8,
   "metadata": {},
   "outputs": [
    {
     "name": "stdout",
     "output_type": "stream",
     "text": [
      "Iteration: 10000, \tTrain accuracy: 99.10%, \tVal accuracy: 98.00%, \tDelta Objective Function: inf, \tSupport Ratio: 19.40%\n",
      "Iteration: 20000, \tTrain accuracy: 99.80%, \tVal accuracy: 99.00%, \tDelta Objective Function: 51.337039, \tSupport Ratio: 16.10%\n",
      "Iteration: 30000, \tTrain accuracy: 99.90%, \tVal accuracy: 99.50%, \tDelta Objective Function: 26.450561, \tSupport Ratio: 14.00%\n",
      "Iteration: 40000, \tTrain accuracy: 99.40%, \tVal accuracy: 99.50%, \tDelta Objective Function: 10.510557, \tSupport Ratio: 14.30%\n",
      "Iteration: 50000, \tTrain accuracy: 99.00%, \tVal accuracy: 98.00%, \tDelta Objective Function: 8.315844, \tSupport Ratio: 13.70%\n",
      "Iteration: 60000, \tTrain accuracy: 99.00%, \tVal accuracy: 99.00%, \tDelta Objective Function: 6.098615, \tSupport Ratio: 12.70%\n",
      "Iteration: 70000, \tTrain accuracy: 99.70%, \tVal accuracy: 99.00%, \tDelta Objective Function: 6.163077, \tSupport Ratio: 12.20%\n",
      "Iteration: 80000, \tTrain accuracy: 100.00%, \tVal accuracy: 99.50%, \tDelta Objective Function: 4.421311, \tSupport Ratio: 12.40%\n",
      "Iteration: 90000, \tTrain accuracy: 99.80%, \tVal accuracy: 99.00%, \tDelta Objective Function: 4.129242, \tSupport Ratio: 11.40%\n",
      "Iteration: 100000, \tTrain accuracy: 99.80%, \tVal accuracy: 99.00%, \tDelta Objective Function: 1.332299, \tSupport Ratio: 10.50%\n",
      "Iteration: 110000, \tTrain accuracy: 100.00%, \tVal accuracy: 100.00%, \tDelta Objective Function: 1.195627, \tSupport Ratio: 10.20%\n",
      "Iteration: 120000, \tTrain accuracy: 99.90%, \tVal accuracy: 100.00%, \tDelta Objective Function: 2.248688, \tSupport Ratio: 10.50%\n",
      "Iteration: 130000, \tTrain accuracy: 100.00%, \tVal accuracy: 100.00%, \tDelta Objective Function: 2.209730, \tSupport Ratio: 9.80%\n",
      "Iteration: 140000, \tTrain accuracy: 100.00%, \tVal accuracy: 100.00%, \tDelta Objective Function: 0.971279, \tSupport Ratio: 9.60%\n",
      "Iteration: 150000, \tTrain accuracy: 100.00%, \tVal accuracy: 99.50%, \tDelta Objective Function: 1.393107, \tSupport Ratio: 9.50%\n",
      "Iteration: 160000, \tTrain accuracy: 99.90%, \tVal accuracy: 99.50%, \tDelta Objective Function: 0.346211, \tSupport Ratio: 8.90%\n",
      "Iteration: 170000, \tTrain accuracy: 99.80%, \tVal accuracy: 99.50%, \tDelta Objective Function: 0.258947, \tSupport Ratio: 8.70%\n",
      "Iteration: 180000, \tTrain accuracy: 100.00%, \tVal accuracy: 100.00%, \tDelta Objective Function: 0.207311, \tSupport Ratio: 8.60%\n",
      "Iteration: 190000, \tTrain accuracy: 99.90%, \tVal accuracy: 99.00%, \tDelta Objective Function: 0.738704, \tSupport Ratio: 8.30%\n",
      "Iteration: 200000, \tTrain accuracy: 100.00%, \tVal accuracy: 100.00%, \tDelta Objective Function: 0.676768, \tSupport Ratio: 8.30%\n"
     ]
    }
   ],
   "source": [
    "svm.train(x,y, x_val, y_val, max_iter = 200000)"
   ]
  },
  {
   "cell_type": "markdown",
   "metadata": {},
   "source": [
    "Ok, let's have a lM results by plotting it!"
   ]
  },
  {
   "cell_type": "code",
   "execution_count": 9,
   "metadata": {},
   "outputs": [
    {
     "data": {
      "image/png": "[encoded data removed]",
      "text/plain": [
       "<Figure size 432x288 with 1 Axes>"
      ]
     },
     "metadata": {},
     "output_type": "display_data"
    }
   ],
   "source": [
    "plot_results( x,y, svm.support_ind, pred_y= svm.predict(x), title = \"\",show_img = True )"
   ]
  },
  {
   "cell_type": "markdown",
   "metadata": {},
   "source": [
    "Several conclusions can be drawn:\n",
    "1. the training dataset is correctly separated, which implies an accurate separating hyperplane;\n",
    "2. The support vectors (points with solid color) are only located around the margin area, which indicates a good selection of the kernel parametes. This SVM is neithet overfit nor underfit."
   ]
  },
  {
   "cell_type": "markdown",
   "metadata": {},
   "source": [
    "We can further evaluate the accuracy on test dataset:"
   ]
  },
  {
   "cell_type": "code",
   "execution_count": 10,
   "metadata": {},
   "outputs": [
    {
     "name": "stdout",
     "output_type": "stream",
     "text": [
      "Test Accuracy: 99.50%\n"
     ]
    }
   ],
   "source": [
    "x_test, y_test = load_data( 500 )\n",
    "\n",
    "pred_y=svm.predict(x_test)\n",
    "test_acc =  np.sum( pred_y == y_test  )/ y_test.shape[0]\n",
    "print(\"Test Accuracy: %.2f%%\"%(test_acc *100))"
   ]
  },
  {
   "cell_type": "markdown",
   "metadata": {},
   "source": [
    "## Test the kernel SVM on MNIST for classification"
   ]
  },
  {
   "cell_type": "markdown",
   "metadata": {},
   "source": [
    "To further prove the effectiveness of the SVM model, we tested it on a slightly more complex problem: ditingush between digit \"4\" and digit \"9\" using SVM."
   ]
  },
  {
   "cell_type": "markdown",
   "metadata": {},
   "source": [
    "First of all, we need to load and prepare the data"
   ]
  },
  {
   "cell_type": "code",
   "execution_count": 11,
   "metadata": {},
   "outputs": [],
   "source": [
    "## load data\n",
    "(mnist_x, mnist_y), _ = mnist.load_data()\n",
    "\n",
    "## extract the digit \"4\" images (positive 1) and digit \"9\" images (negative 1)\n",
    "x_pos= mnist_x[mnist_y == 4]\n",
    "y_pos= np.ones( x_pos.shape[0] )\n",
    "x_neg= mnist_x[mnist_y == 9]\n",
    "y_neg= np.ones( x_neg.shape[0] ) *(-1)\n",
    "\n",
    "## Put both positive/negative samples together to get the train/val/test dataset\n",
    "x = np.concatenate( [ x_pos, x_neg ], axis =0 )\n",
    "x = np.reshape(x, [x.shape[0],-1] )/255   ## normalization\n",
    "y = np.concatenate( [ y_pos, y_neg], axis =0 )\n",
    "\n",
    "## randomly shuffle\n",
    "random_indx = np.random.permutation( np.arange( x.shape[0] ) )\n",
    "x = x[random_indx]\n",
    "y = y[random_indx]\n",
    "\n",
    "## get x,y x_val, y_val, x_test, y_test\n",
    "x_val = x[:500]\n",
    "y_val = y[:500]\n",
    "x_test = x[500:1000]\n",
    "y_test = y[500:1000]\n",
    "x = x[1000:2000]\n",
    "y = y[1000:2000]"
   ]
  },
  {
   "cell_type": "markdown",
   "metadata": {},
   "source": [
    "Train the SVM model"
   ]
  },
  {
   "cell_type": "code",
   "execution_count": null,
   "metadata": {},
   "outputs": [
    {
     "name": "stdout",
     "output_type": "stream",
     "text": [
      "Iteration: 10000, \tTrain accuracy: 98.70%, \tVal accuracy: 96.40%, \tDelta Objective Function: inf, \tSupport Ratio: 34.50%\n",
      "Iteration: 20000, \tTrain accuracy: 98.60%, \tVal accuracy: 96.00%, \tDelta Objective Function: 92.534743, \tSupport Ratio: 29.50%\n",
      "Iteration: 30000, \tTrain accuracy: 98.60%, \tVal accuracy: 95.80%, \tDelta Objective Function: 17.440160, \tSupport Ratio: 27.20%\n",
      "Iteration: 40000, \tTrain accuracy: 98.80%, \tVal accuracy: 95.60%, \tDelta Objective Function: 5.375707, \tSupport Ratio: 25.50%\n",
      "Iteration: 50000, \tTrain accuracy: 98.90%, \tVal accuracy: 95.40%, \tDelta Objective Function: 2.259709, \tSupport Ratio: 24.40%\n",
      "Iteration: 60000, \tTrain accuracy: 98.80%, \tVal accuracy: 95.40%, \tDelta Objective Function: 1.122565, \tSupport Ratio: 23.70%\n",
      "Iteration: 70000, \tTrain accuracy: 98.70%, \tVal accuracy: 94.20%, \tDelta Objective Function: 0.762315, \tSupport Ratio: 23.90%\n",
      "Iteration: 80000, \tTrain accuracy: 98.80%, \tVal accuracy: 95.40%, \tDelta Objective Function: 0.425399, \tSupport Ratio: 23.60%\n",
      "Iteration: 90000, \tTrain accuracy: 98.80%, \tVal accuracy: 95.40%, \tDelta Objective Function: 0.291108, \tSupport Ratio: 23.30%\n",
      "Iteration: 100000, \tTrain accuracy: 98.80%, \tVal accuracy: 95.40%, \tDelta Objective Function: 0.258185, \tSupport Ratio: 22.80%\n",
      "Iteration: 110000, \tTrain accuracy: 98.80%, \tVal accuracy: 95.40%, \tDelta Objective Function: 0.179889, \tSupport Ratio: 22.80%\n",
      "Iteration: 120000, \tTrain accuracy: 98.80%, \tVal accuracy: 95.40%, \tDelta Objective Function: 0.140847, \tSupport Ratio: 22.30%\n",
      "Iteration: 130000, \tTrain accuracy: 98.80%, \tVal accuracy: 95.40%, \tDelta Objective Function: 0.071885, \tSupport Ratio: 22.70%\n",
      "Iteration: 140000, \tTrain accuracy: 98.80%, \tVal accuracy: 95.40%, \tDelta Objective Function: 0.037175, \tSupport Ratio: 22.50%\n",
      "Iteration: 150000, \tTrain accuracy: 98.80%, \tVal accuracy: 95.40%, \tDelta Objective Function: 0.056052, \tSupport Ratio: 22.30%\n",
      "Iteration: 160000, \tTrain accuracy: 98.80%, \tVal accuracy: 95.40%, \tDelta Objective Function: 0.032109, \tSupport Ratio: 22.20%\n",
      "Iteration: 170000, \tTrain accuracy: 98.80%, \tVal accuracy: 95.40%, \tDelta Objective Function: 0.021068, \tSupport Ratio: 22.30%\n",
      "Iteration: 180000, \tTrain accuracy: 98.80%, \tVal accuracy: 95.40%, \tDelta Objective Function: 0.020332, \tSupport Ratio: 22.30%\n",
      "Iteration: 190000, \tTrain accuracy: 98.80%, \tVal accuracy: 95.40%, \tDelta Objective Function: 0.019551, \tSupport Ratio: 22.30%\n",
      "Iteration: 200000, \tTrain accuracy: 98.80%, \tVal accuracy: 95.40%, \tDelta Objective Function: 0.009766, \tSupport Ratio: 22.20%\n",
      "Iteration: 210000, \tTrain accuracy: 98.80%, \tVal accuracy: 95.40%, \tDelta Objective Function: 0.010782, \tSupport Ratio: 22.40%\n",
      "Iteration: 220000, \tTrain accuracy: 98.80%, \tVal accuracy: 95.40%, \tDelta Objective Function: 0.011163, \tSupport Ratio: 22.30%\n",
      "Iteration: 230000, \tTrain accuracy: 98.80%, \tVal accuracy: 95.40%, \tDelta Objective Function: 0.009348, \tSupport Ratio: 22.20%\n"
     ]
    }
   ],
   "source": [
    "## Estimate the value of sigma\n",
    "sigma_mnist = np.mean( distance_matrix( x,y ) )*0.5\n",
    "\n",
    "svm_mnist = SVM_Solver( kernel_type = {\"name\":\"GAUSSIAN\", \"params\":[sigma_mnist]} )\n",
    "svm_mnist.train( x,y, x_val, y_val )"
   ]
  },
  {
   "cell_type": "markdown",
   "metadata": {},
   "source": [
    "The Delta Objective Function is now less than epsilon= 1E-4, so the training is finished. Now we can test the classification results on test dataset."
   ]
  },
  {
   "cell_type": "code",
   "execution_count": null,
   "metadata": {},
   "outputs": [],
   "source": [
    "pred_y=svm_mnist.predict(x_test)\n",
    "test_acc =  np.sum( pred_y == y_test  )/ y_test.shape[0]\n",
    "print(\"Test Accuracy: %.2f%%\"%(test_acc *100))"
   ]
  },
  {
   "cell_type": "markdown",
   "metadata": {},
   "source": [
    "Moreover, we can also have a look of the support_x to see what do the support vectors look like:"
   ]
  },
  {
   "cell_type": "code",
   "execution_count": null,
   "metadata": {},
   "outputs": [],
   "source": [
    "support_x_pos = svm_mnist.support_x[ svm_mnist.support_y==1 ]\n",
    "support_x_neg = svm_mnist.support_x[ svm_mnist.support_y==-1 ]\n",
    "\n",
    "fig=plt.figure(figsize=(10, 2), dpi= 80, facecolor='w', edgecolor='k')\n",
    "plt.gray()\n",
    "for i in range( 10 ):\n",
    "    plt.subplot(2,10,i+1)\n",
    "    plt.imshow( np.reshape(support_x_pos[i,:],[28,28] ))\n",
    "    plt.title(\"digit 4\")\n",
    "    plt.axis('off')\n",
    "    \n",
    "for i in range( 10 ):\n",
    "    plt.subplot(2,10,i+11)\n",
    "    plt.imshow( np.reshape(support_x_neg[i,:],[28,28] ))\n",
    "    plt.title(\"digit 9\")\n",
    "    plt.axis('off')\n",
    "\n",
    "plt.subplots_adjust(wspace=1,  hspace=1)\n",
    "plt.show()"
   ]
  },
  {
   "cell_type": "markdown",
   "metadata": {},
   "source": [
    "From the results we can see the support vectors are somehow ambiguous to distingush. E.g, the first digit 4 looks also like digit 9, and the first digit 9 also looks like digit 4. The SVM model is sensitive to such ambiguous samples and tend to use them as support vectors to determine the separating hyperplane."
   ]
  },
  {
   "cell_type": "markdown",
   "metadata": {},
   "source": [
    "**Conclusion**\n",
    "\n",
    "In these long serises, we mathematically show the principle of SVM and many possible solutions to thi problem. We also show the implementation and performance on some small but interesting samples. Hope this could be somehow helpful."
   ]
  },
  {
   "cell_type": "markdown",
   "metadata": {},
   "source": [
    "**Reference**\n",
    "1. [Andrew Ng's course on Machine Learning at Stanford University](http://cs229.stanford.edu/notes/)\n",
    "2. [Prof. Mathar Rudolf's course on Fundamental of Big Data Analytics](http://www.ti.rwth-aachen.de)\n",
    "3. [SVM中，高斯核为什么会把原始维度映射到无穷多维？](https://www.zhihu.com/question/35602879)\n",
    "4. [机器学习算法实践-SVM中的SMO算法- 知乎](https://zhuanlan.zhihu.com/p/29212107)"
   ]
  }
 ],
 "metadata": {
  "kernelspec": {
   "display_name": "Python 3",
   "language": "python",
   "name": "python3"
  },
  "language_info": {
   "codemirror_mode": {
    "name": "ipython",
    "version": 3
   },
   "file_extension": ".py",
   "mimetype": "text/x-python",
   "name": "python",
   "nbconvert_exporter": "python",
   "pygments_lexer": "ipython3",
   "version": "3.5.5"
  }
 },
 "nbformat": 4,
 "nbformat_minor": 2
}
